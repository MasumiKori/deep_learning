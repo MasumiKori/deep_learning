{
 "cells": [
  {
   "cell_type": "code",
   "execution_count": 36,
   "metadata": {
    "scrolled": false
   },
   "outputs": [],
   "source": [
    "from keras.applications import VGG16\n",
    "import os,sys\n",
    "import numpy as np\n",
    "import pandas\n",
    "import matplotlib.pyplot as plt\n",
    "from PIL import Image\n",
    "from keras.utils import np_utils\n",
    "from sklearn.model_selection import train_test_split\n",
    "from keras.models import Sequential, Model\n",
    "from keras.layers import Input, Activation, Dropout, Flatten, Dense\n",
    "from keras.callbacks import EarlyStopping, ModelCheckpoint, ReduceLROnPlateau, TensorBoard\n",
    "from keras import optimizers\n",
    "import time\n",
    "import glob\n",
    "import cv2"
   ]
  },
  {
   "cell_type": "code",
   "execution_count": 2,
   "metadata": {},
   "outputs": [],
   "source": [
    "folder = os.listdir(\"./data/SDNET2018/D\")\n",
    "image_size = 50\n",
    "dense_size = len(folder)\n",
    "\n",
    "X = []\n",
    "Y = []\n",
    "for index, name in enumerate(folder):\n",
    "    dir = \"./data/SDNET2018/D/\" + name\n",
    "    files = glob.glob(dir + \"/*.jpg\")\n",
    "    for i, file in enumerate(files):\n",
    "        image = Image.open(file)\n",
    "        image = image.convert(\"RGB\")\n",
    "        image = image.resize((image_size, image_size))\n",
    "        data = np.asarray(image)\n",
    "        X.append(data)\n",
    "        Y.append(index)\n",
    "X = np.array(X)\n",
    "Y = np.array(Y)\n",
    "X = X.astype('float32')\n",
    "X = X / 255.0\n",
    "\n",
    "\n",
    "Y = np_utils.to_categorical(Y, dense_size)\n",
    "X_train, X_test, y_train, y_test = train_test_split(X, Y, test_size=0.20)\n",
    "\n",
    "batch_size = 64\n",
    "nb_epoch = 100"
   ]
  },
  {
   "cell_type": "code",
   "execution_count": 3,
   "metadata": {},
   "outputs": [
    {
     "name": "stderr",
     "output_type": "stream",
     "text": [
      "c:\\anaconda3\\envs\\rebuild_keras\\lib\\site-packages\\ipykernel_launcher.py:12: UserWarning: Update your `Model` call to the Keras 2 API: `Model(inputs=Tensor(\"in..., outputs=Tensor(\"se...)`\n",
      "  if sys.path[0] == '':\n"
     ]
    }
   ],
   "source": [
    "#VGG16のロード。FC層は不要なので　include_top=False\n",
    "vgg16 = VGG16(include_top=False, weights='imagenet', input_shape=(image_size,image_size,3))\n",
    "\n",
    "#FC層の作成\n",
    "top_model = Sequential()\n",
    "top_model.add(Flatten(input_shape=vgg16.output_shape[1:]))\n",
    "top_model.add(Dense(256, activation='relu'))\n",
    "top_model.add(Dropout(0.5))\n",
    "top_model.add(Dense(dense_size, activation='softmax'))\n",
    "\n",
    "#VGG16とFC層を結合してモデルを作成\n",
    "vgg_model = Model(input=vgg16.input, output=top_model(vgg16.output))\n",
    "\n",
    "#最後のconv層の直前までの層をfreeze\n",
    "for layer in vgg_model.layers[:15]:\n",
    "        layer.trainable = False\n",
    "        \n",
    "#多クラス分類を指定\n",
    "vgg_model.compile(loss='categorical_crossentropy',\n",
    "        optimizer=optimizers.SGD(lr=1e-3, momentum=0.9),\n",
    "        metrics=['accuracy'])"
   ]
  },
  {
   "cell_type": "code",
   "execution_count": 4,
   "metadata": {},
   "outputs": [],
   "source": [
    "#EarlyStopping\n",
    "early_stopping = EarlyStopping(\n",
    "    monitor = 'val_loss',\n",
    "    patience = 10,\n",
    "    verbose = 1)\n",
    "\n",
    "#ModelCheckpoint\n",
    "result_dir = './result_dir/'\n",
    "if os.path.exists(result_dir)==False:os.mkdir(result_dir)\n",
    "model_checkpoint = ModelCheckpoint(\n",
    "    result_dir + \"val_loss[val_loss:.3f].hd5f\",\n",
    "    monitor = 'val_loss',\n",
    "    verbose = 1,\n",
    "    save_best_only = True,\n",
    "    save_weights_only = True,\n",
    "    period = 3)\n",
    "\n",
    "#reduce learning rate\n",
    "reduce_lr = ReduceLROnPlateau(\n",
    "    monitor = 'val_loss',\n",
    "    factor = 0.1,\n",
    "    patience = 3,\n",
    "    verbose = 1\n",
    ")\n",
    "\n",
    "#log for TensorBoard\n",
    "log_dir = './log_dir/'\n",
    "if os.path.exists(log_dir)==False:os.mkdir(log_dir)\n",
    "logging = TensorBoard(log_dir)"
   ]
  },
  {
   "cell_type": "code",
   "execution_count": 5,
   "metadata": {},
   "outputs": [
    {
     "name": "stderr",
     "output_type": "stream",
     "text": [
      "c:\\anaconda3\\envs\\rebuild_keras\\lib\\site-packages\\ipykernel_launcher.py:8: UserWarning: The `nb_epoch` argument in `fit` has been renamed `epochs`.\n",
      "  \n"
     ]
    },
    {
     "name": "stdout",
     "output_type": "stream",
     "text": [
      "Train on 8716 samples, validate on 2180 samples\n",
      "Epoch 1/100\n",
      "8716/8716 [==============================] - 5s 537us/step - loss: 0.4148 - acc: 0.8483 - val_loss: 0.3577 - val_acc: 0.8725\n",
      "Epoch 2/100\n",
      "8716/8716 [==============================] - 3s 394us/step - loss: 0.3747 - acc: 0.8648 - val_loss: 0.3328 - val_acc: 0.8789\n",
      "Epoch 3/100\n",
      "8716/8716 [==============================] - 3s 392us/step - loss: 0.3666 - acc: 0.8686 - val_loss: 0.3280 - val_acc: 0.8876\n",
      "Epoch 4/100\n",
      "8716/8716 [==============================] - 3s 392us/step - loss: 0.3547 - acc: 0.8743 - val_loss: 0.3170 - val_acc: 0.8894\n",
      "Epoch 5/100\n",
      "8716/8716 [==============================] - 3s 392us/step - loss: 0.3541 - acc: 0.8755 - val_loss: 0.3159 - val_acc: 0.8890\n",
      "Epoch 6/100\n",
      "8716/8716 [==============================] - 3s 393us/step - loss: 0.3431 - acc: 0.8807 - val_loss: 0.3089 - val_acc: 0.8881\n",
      "Epoch 7/100\n",
      "8716/8716 [==============================] - 3s 390us/step - loss: 0.3444 - acc: 0.8819 - val_loss: 0.3142 - val_acc: 0.8904\n",
      "Epoch 8/100\n",
      "8716/8716 [==============================] - 3s 391us/step - loss: 0.3386 - acc: 0.8813 - val_loss: 0.3141 - val_acc: 0.8936\n",
      "Epoch 9/100\n",
      "8716/8716 [==============================] - 3s 391us/step - loss: 0.3344 - acc: 0.8838 - val_loss: 0.3072 - val_acc: 0.8908\n",
      "Epoch 10/100\n",
      "8716/8716 [==============================] - 3s 392us/step - loss: 0.3340 - acc: 0.8825 - val_loss: 0.3106 - val_acc: 0.8890\n",
      "Epoch 11/100\n",
      "8716/8716 [==============================] - 3s 393us/step - loss: 0.3243 - acc: 0.8876 - val_loss: 0.3065 - val_acc: 0.8963s: 0.3\n",
      "Epoch 12/100\n",
      "8716/8716 [==============================] - 3s 390us/step - loss: 0.3226 - acc: 0.8892 - val_loss: 0.3301 - val_acc: 0.8872\n",
      "Epoch 13/100\n",
      "8716/8716 [==============================] - 3s 392us/step - loss: 0.3294 - acc: 0.8865 - val_loss: 0.3582 - val_acc: 0.8720\n",
      "Epoch 14/100\n",
      "8716/8716 [==============================] - 3s 393us/step - loss: 0.3212 - acc: 0.8885 - val_loss: 0.3023 - val_acc: 0.8940\n",
      "Epoch 15/100\n",
      "8716/8716 [==============================] - 3s 392us/step - loss: 0.3226 - acc: 0.8887 - val_loss: 0.2953 - val_acc: 0.9014\n",
      "Epoch 16/100\n",
      "8716/8716 [==============================] - 3s 391us/step - loss: 0.3169 - acc: 0.8874 - val_loss: 0.2928 - val_acc: 0.8986\n",
      "Epoch 17/100\n",
      "8716/8716 [==============================] - 3s 391us/step - loss: 0.3269 - acc: 0.8868 - val_loss: 0.2967 - val_acc: 0.8940\n",
      "Epoch 18/100\n",
      "8716/8716 [==============================] - 3s 392us/step - loss: 0.3146 - acc: 0.8932 - val_loss: 0.2992 - val_acc: 0.8963\n",
      "Epoch 19/100\n",
      "8716/8716 [==============================] - 3s 391us/step - loss: 0.3148 - acc: 0.8910 - val_loss: 0.3031 - val_acc: 0.9000\n",
      "\n",
      "Epoch 00019: ReduceLROnPlateau reducing learning rate to 0.00010000000474974513.\n",
      "Epoch 20/100\n",
      "8716/8716 [==============================] - 3s 390us/step - loss: 0.3034 - acc: 0.8973 - val_loss: 0.2887 - val_acc: 0.8995\n",
      "Epoch 21/100\n",
      "8716/8716 [==============================] - 3s 392us/step - loss: 0.2987 - acc: 0.8995 - val_loss: 0.2878 - val_acc: 0.8977\n",
      "Epoch 22/100\n",
      "8716/8716 [==============================] - 3s 394us/step - loss: 0.2955 - acc: 0.8988 - val_loss: 0.2896 - val_acc: 0.9009\n",
      "Epoch 23/100\n",
      "8716/8716 [==============================] - 3s 393us/step - loss: 0.2938 - acc: 0.9009 - val_loss: 0.2879 - val_acc: 0.9032\n",
      "Epoch 24/100\n",
      "8716/8716 [==============================] - 3s 391us/step - loss: 0.2941 - acc: 0.9012 - val_loss: 0.2872 - val_acc: 0.8982\n",
      "Epoch 25/100\n",
      "8716/8716 [==============================] - 3s 390us/step - loss: 0.2942 - acc: 0.9011 - val_loss: 0.2893 - val_acc: 0.9009\n",
      "Epoch 26/100\n",
      "8716/8716 [==============================] - 3s 392us/step - loss: 0.2939 - acc: 0.8989 - val_loss: 0.2884 - val_acc: 0.8982\n",
      "Epoch 27/100\n",
      "8716/8716 [==============================] - 3s 392us/step - loss: 0.2936 - acc: 0.8995 - val_loss: 0.2874 - val_acc: 0.8991\n",
      "\n",
      "Epoch 00027: ReduceLROnPlateau reducing learning rate to 1.0000000474974514e-05.\n",
      "Epoch 28/100\n",
      "8716/8716 [==============================] - 3s 390us/step - loss: 0.2923 - acc: 0.8992 - val_loss: 0.2867 - val_acc: 0.9023\n",
      "Epoch 29/100\n",
      "8716/8716 [==============================] - 3s 392us/step - loss: 0.2887 - acc: 0.9024 - val_loss: 0.2871 - val_acc: 0.9023\n",
      "Epoch 30/100\n",
      "8716/8716 [==============================] - 3s 393us/step - loss: 0.2906 - acc: 0.9022 - val_loss: 0.2867 - val_acc: 0.9028\n",
      "Epoch 31/100\n",
      "8716/8716 [==============================] - 3s 394us/step - loss: 0.2887 - acc: 0.9032 - val_loss: 0.2872 - val_acc: 0.9028\n",
      "\n",
      "Epoch 00031: ReduceLROnPlateau reducing learning rate to 1.0000000656873453e-06.\n",
      "Epoch 32/100\n",
      "8716/8716 [==============================] - 3s 393us/step - loss: 0.2888 - acc: 0.9010 - val_loss: 0.2868 - val_acc: 0.9023\n",
      "Epoch 33/100\n",
      "8716/8716 [==============================] - 3s 396us/step - loss: 0.2919 - acc: 0.9027 - val_loss: 0.2867 - val_acc: 0.9023\n",
      "Epoch 34/100\n",
      "8716/8716 [==============================] - 3s 393us/step - loss: 0.2898 - acc: 0.9014 - val_loss: 0.2867 - val_acc: 0.9023\n",
      "\n",
      "Epoch 00034: ReduceLROnPlateau reducing learning rate to 1.0000001111620805e-07.\n",
      "Epoch 35/100\n",
      "8716/8716 [==============================] - 3s 393us/step - loss: 0.2906 - acc: 0.9013 - val_loss: 0.2867 - val_acc: 0.9023\n",
      "Epoch 36/100\n",
      "8716/8716 [==============================] - 3s 393us/step - loss: 0.2890 - acc: 0.9017 - val_loss: 0.2867 - val_acc: 0.9023\n",
      "Epoch 37/100\n",
      "8716/8716 [==============================] - 3s 394us/step - loss: 0.2895 - acc: 0.9014 - val_loss: 0.2867 - val_acc: 0.9023\n",
      "\n",
      "Epoch 00037: ReduceLROnPlateau reducing learning rate to 1.000000082740371e-08.\n",
      "Epoch 38/100\n",
      "8716/8716 [==============================] - 3s 392us/step - loss: 0.2885 - acc: 0.9006 - val_loss: 0.2867 - val_acc: 0.9023\n",
      "Epoch 39/100\n",
      "8716/8716 [==============================] - 3s 391us/step - loss: 0.2897 - acc: 0.9009 - val_loss: 0.2867 - val_acc: 0.9023\n",
      "Epoch 40/100\n",
      "8716/8716 [==============================] - 3s 393us/step - loss: 0.2891 - acc: 0.9035 - val_loss: 0.2867 - val_acc: 0.9023\n",
      "\n",
      "Epoch 00040: ReduceLROnPlateau reducing learning rate to 1.000000082740371e-09.\n",
      "Epoch 00040: early stopping\n"
     ]
    }
   ],
   "source": [
    "#Fine-tuning\n",
    "hist = vgg_model.fit(\n",
    "    X_train,y_train,\n",
    "    verbose=1,\n",
    "    batch_size=batch_size,\n",
    "    nb_epoch=nb_epoch,\n",
    "    validation_split=0.2,\n",
    "    callbacks=[early_stopping, reduce_lr, logging]\n",
    "    )\n"
   ]
  },
  {
   "cell_type": "code",
   "execution_count": 6,
   "metadata": {},
   "outputs": [],
   "source": [
    "model_dir = './model/'\n",
    "if os.path.exists(model_dir) == False:os.mkdir(model_dir)\n",
    "\n",
    "vgg_model.save(model_dir + 'model.hdf5')\n",
    "\n",
    "# optimizerのない軽量モデルを保存（学習や評価は不可だが、予測は可能）\n",
    "vgg_model.save(model_dir + 'model-opt.hdf5', include_optimizer = False)\n",
    "\n",
    "# ベストの重みのみ保存\n",
    "weights_dir = './weights_dir/'\n",
    "if os.path.exists(weights_dir) == False:os.mkdir(weights_dir)\n",
    "vgg_model.save_weights(weights_dir + 'model_weight.hdf5')"
   ]
  },
  {
   "cell_type": "code",
   "execution_count": 7,
   "metadata": {},
   "outputs": [
    {
     "data": {
      "image/png": "[encoded data removed]",
      "text/plain": [
       "<Figure size 1296x432 with 2 Axes>"
      ]
     },
     "metadata": {
      "needs_background": "light"
     },
     "output_type": "display_data"
    }
   ],
   "source": [
    "plt.figure(figsize = (18,6))\n",
    "\n",
    "# accuracy\n",
    "plt.subplot(1, 2, 1)\n",
    "plt.plot(hist.history[\"acc\"], label = \"acc\", marker = \"o\")\n",
    "plt.plot(hist.history[\"val_acc\"], label = \"val_acc\", marker = \"o\")\n",
    "#plt.xticks(np.arange())\n",
    "#plt.yticks(np.arange())\n",
    "plt.xlabel(\"epoch\")\n",
    "plt.ylabel(\"accuracy\")\n",
    "#plt.title(\"\")\n",
    "plt.legend(loc = \"best\")\n",
    "plt.grid(color = 'gray', alpha = 0.2)\n",
    "\n",
    "# loss\n",
    "plt.subplot(1, 2, 2)\n",
    "plt.plot(hist.history[\"loss\"], label = \"loss\", marker = \"o\")\n",
    "plt.plot(hist.history[\"val_loss\"], label = \"val_loss\", marker = \"o\")\n",
    "#plt.xticks(np.arange())\n",
    "#plt.yticks(np.arange())\n",
    "plt.xlabel(\"epoch\")\n",
    "plt.ylabel(\"loss\")\n",
    "#plt.title(\"\")\n",
    "plt.legend(loc = \"best\")\n",
    "plt.grid(color = 'gray', alpha = 0.2)\n",
    "\n",
    "plt.show()"
   ]
  },
  {
   "cell_type": "code",
   "execution_count": 1,
   "metadata": {},
   "outputs": [
    {
     "ename": "NameError",
     "evalue": "name 'vgg_model' is not defined",
     "output_type": "error",
     "traceback": [
      "\u001b[1;31m---------------------------------------------------------------------------\u001b[0m",
      "\u001b[1;31mNameError\u001b[0m                                 Traceback (most recent call last)",
      "\u001b[1;32m<ipython-input-1-326e01ef201d>\u001b[0m in \u001b[0;36m<module>\u001b[1;34m\u001b[0m\n\u001b[1;32m----> 1\u001b[1;33m \u001b[0mscore\u001b[0m \u001b[1;33m=\u001b[0m \u001b[0mvgg_model\u001b[0m\u001b[1;33m.\u001b[0m\u001b[0mevaluate\u001b[0m\u001b[1;33m(\u001b[0m\u001b[0mX_test\u001b[0m\u001b[1;33m,\u001b[0m\u001b[0my_test\u001b[0m\u001b[1;33m,\u001b[0m\u001b[0mverbose\u001b[0m\u001b[1;33m=\u001b[0m\u001b[1;36m1\u001b[0m\u001b[1;33m)\u001b[0m\u001b[1;33m\u001b[0m\u001b[1;33m\u001b[0m\u001b[0m\n\u001b[0m\u001b[0;32m      2\u001b[0m \u001b[0mprint\u001b[0m\u001b[1;33m(\u001b[0m\u001b[1;34m\"evaluate loss: {0[0]}\"\u001b[0m\u001b[1;33m.\u001b[0m\u001b[0mformat\u001b[0m\u001b[1;33m(\u001b[0m\u001b[0mscore\u001b[0m\u001b[1;33m)\u001b[0m\u001b[1;33m)\u001b[0m\u001b[1;33m\u001b[0m\u001b[1;33m\u001b[0m\u001b[0m\n\u001b[0;32m      3\u001b[0m \u001b[0mprint\u001b[0m\u001b[1;33m(\u001b[0m\u001b[1;34m\"evaluate acc: {0[1]}\"\u001b[0m\u001b[1;33m.\u001b[0m\u001b[0mformat\u001b[0m\u001b[1;33m(\u001b[0m\u001b[0mscore\u001b[0m\u001b[1;33m)\u001b[0m\u001b[1;33m)\u001b[0m\u001b[1;33m\u001b[0m\u001b[1;33m\u001b[0m\u001b[0m\n\u001b[0;32m      4\u001b[0m \u001b[1;33m\u001b[0m\u001b[0m\n\u001b[0;32m      5\u001b[0m \u001b[0mprex\u001b[0m \u001b[1;33m=\u001b[0m \u001b[0mvgg_model\u001b[0m\u001b[1;33m.\u001b[0m\u001b[0mpredict\u001b[0m\u001b[1;33m(\u001b[0m\u001b[0mX_test\u001b[0m\u001b[1;33m)\u001b[0m\u001b[1;33m\u001b[0m\u001b[1;33m\u001b[0m\u001b[0m\n",
      "\u001b[1;31mNameError\u001b[0m: name 'vgg_model' is not defined"
     ]
    }
   ],
   "source": [
    "score = vgg_model.evaluate(X_test,y_test,verbose=1)\n",
    "print(\"evaluate loss: {0[0]}\".format(score))\n",
    "print(\"evaluate acc: {0[1]}\".format(score))\n",
    "\n",
    "prex = vgg_model.predict(X_test)\n",
    "wrong = []\n",
    "w_index = []\n",
    "for i in range(2724):\n",
    "    yi = y_test[i:i+1]\n",
    "    prei = prex[i:i+1]\n",
    "    if prei.argmax() != yi.argmax():\n",
    "        wrong.append(i)\n",
    "        w_index.append(y_test[i])\n",
    "        \n",
    "print(wrong)\n",
    "print(w_index)\n",
    "print('wrong',len(wrong))"
   ]
  },
  {
   "cell_type": "code",
   "execution_count": 58,
   "metadata": {},
   "outputs": [
    {
     "name": "stderr",
     "output_type": "stream",
     "text": [
      "Clipping input data to the valid range for imshow with RGB data ([0..1] for floats or [0..255] for integers).\n"
     ]
    },
    {
     "data": {
      "image/png": "[encoded data removed]",
      "text/plain": [
       "<Figure size 432x288 with 1 Axes>"
      ]
     },
     "metadata": {
      "needs_background": "light"
     },
     "output_type": "display_data"
    }
   ],
   "source": [
    "wrong_dir = './data/wrong/'\n",
    "if os.path.exists(wrong_dir)==False:os.mkdir(wrong_dir)\n",
    "\n",
    "\n",
    "im = (X[9]*255)\n",
    "plt.imshow(im)\n",
    "img = Image.fromarray(np.uint8(im))\n",
    "img.save('./data/wrong/9.jpg')\n",
    "    \n",
    "for i in range(306):\n",
    "    im = (X[wrong[i]]*255)\n",
    "    img = Image.fromarray(np.uint8(im))\n",
    "    img.save(wrong_dir + '{}.jpg'.format(i))"
   ]
  },
  {
   "cell_type": "code",
   "execution_count": 61,
   "metadata": {},
   "outputs": [
    {
     "ename": "ValueError",
     "evalue": "Error when checking input: expected input_1 to have 4 dimensions, but got array with shape (50, 50, 3)",
     "output_type": "error",
     "traceback": [
      "\u001b[1;31m---------------------------------------------------------------------------\u001b[0m",
      "\u001b[1;31mValueError\u001b[0m                                Traceback (most recent call last)",
      "\u001b[1;32m<ipython-input-61-213f38d3f255>\u001b[0m in \u001b[0;36m<module>\u001b[1;34m\u001b[0m\n\u001b[1;32m----> 1\u001b[1;33m \u001b[0mprex\u001b[0m \u001b[1;33m=\u001b[0m \u001b[0mvgg_model\u001b[0m\u001b[1;33m.\u001b[0m\u001b[0mpredict\u001b[0m\u001b[1;33m(\u001b[0m\u001b[0mX\u001b[0m\u001b[1;33m[\u001b[0m\u001b[1;36m8\u001b[0m\u001b[1;33m]\u001b[0m\u001b[1;33m)\u001b[0m\u001b[1;33m\u001b[0m\u001b[1;33m\u001b[0m\u001b[0m\n\u001b[0m\u001b[0;32m      2\u001b[0m \u001b[0mprint\u001b[0m\u001b[1;33m(\u001b[0m\u001b[1;34m\"evaluate loss: {0}\"\u001b[0m\u001b[1;33m.\u001b[0m\u001b[0mformat\u001b[0m\u001b[1;33m(\u001b[0m\u001b[0mprex\u001b[0m\u001b[1;33m)\u001b[0m\u001b[1;33m)\u001b[0m\u001b[1;33m\u001b[0m\u001b[1;33m\u001b[0m\u001b[0m\n\u001b[0;32m      3\u001b[0m \u001b[1;31m#print(\"evaluate acc: {0[1]}\".format(prex))\u001b[0m\u001b[1;33m\u001b[0m\u001b[1;33m\u001b[0m\u001b[1;33m\u001b[0m\u001b[0m\n",
      "\u001b[1;32mc:\\anaconda3\\envs\\rebuild_keras\\lib\\site-packages\\keras\\engine\\training.py\u001b[0m in \u001b[0;36mpredict\u001b[1;34m(self, x, batch_size, verbose, steps)\u001b[0m\n\u001b[0;32m   1147\u001b[0m                              'argument.')\n\u001b[0;32m   1148\u001b[0m         \u001b[1;31m# Validate user data.\u001b[0m\u001b[1;33m\u001b[0m\u001b[1;33m\u001b[0m\u001b[1;33m\u001b[0m\u001b[0m\n\u001b[1;32m-> 1149\u001b[1;33m         \u001b[0mx\u001b[0m\u001b[1;33m,\u001b[0m \u001b[0m_\u001b[0m\u001b[1;33m,\u001b[0m \u001b[0m_\u001b[0m \u001b[1;33m=\u001b[0m \u001b[0mself\u001b[0m\u001b[1;33m.\u001b[0m\u001b[0m_standardize_user_data\u001b[0m\u001b[1;33m(\u001b[0m\u001b[0mx\u001b[0m\u001b[1;33m)\u001b[0m\u001b[1;33m\u001b[0m\u001b[1;33m\u001b[0m\u001b[0m\n\u001b[0m\u001b[0;32m   1150\u001b[0m         \u001b[1;32mif\u001b[0m \u001b[0mself\u001b[0m\u001b[1;33m.\u001b[0m\u001b[0mstateful\u001b[0m\u001b[1;33m:\u001b[0m\u001b[1;33m\u001b[0m\u001b[1;33m\u001b[0m\u001b[0m\n\u001b[0;32m   1151\u001b[0m             \u001b[1;32mif\u001b[0m \u001b[0mx\u001b[0m\u001b[1;33m[\u001b[0m\u001b[1;36m0\u001b[0m\u001b[1;33m]\u001b[0m\u001b[1;33m.\u001b[0m\u001b[0mshape\u001b[0m\u001b[1;33m[\u001b[0m\u001b[1;36m0\u001b[0m\u001b[1;33m]\u001b[0m \u001b[1;33m>\u001b[0m \u001b[0mbatch_size\u001b[0m \u001b[1;32mand\u001b[0m \u001b[0mx\u001b[0m\u001b[1;33m[\u001b[0m\u001b[1;36m0\u001b[0m\u001b[1;33m]\u001b[0m\u001b[1;33m.\u001b[0m\u001b[0mshape\u001b[0m\u001b[1;33m[\u001b[0m\u001b[1;36m0\u001b[0m\u001b[1;33m]\u001b[0m \u001b[1;33m%\u001b[0m \u001b[0mbatch_size\u001b[0m \u001b[1;33m!=\u001b[0m \u001b[1;36m0\u001b[0m\u001b[1;33m:\u001b[0m\u001b[1;33m\u001b[0m\u001b[1;33m\u001b[0m\u001b[0m\n",
      "\u001b[1;32mc:\\anaconda3\\envs\\rebuild_keras\\lib\\site-packages\\keras\\engine\\training.py\u001b[0m in \u001b[0;36m_standardize_user_data\u001b[1;34m(self, x, y, sample_weight, class_weight, check_array_lengths, batch_size)\u001b[0m\n\u001b[0;32m    749\u001b[0m             \u001b[0mfeed_input_shapes\u001b[0m\u001b[1;33m,\u001b[0m\u001b[1;33m\u001b[0m\u001b[1;33m\u001b[0m\u001b[0m\n\u001b[0;32m    750\u001b[0m             \u001b[0mcheck_batch_axis\u001b[0m\u001b[1;33m=\u001b[0m\u001b[1;32mFalse\u001b[0m\u001b[1;33m,\u001b[0m  \u001b[1;31m# Don't enforce the batch size.\u001b[0m\u001b[1;33m\u001b[0m\u001b[1;33m\u001b[0m\u001b[0m\n\u001b[1;32m--> 751\u001b[1;33m             exception_prefix='input')\n\u001b[0m\u001b[0;32m    752\u001b[0m \u001b[1;33m\u001b[0m\u001b[0m\n\u001b[0;32m    753\u001b[0m         \u001b[1;32mif\u001b[0m \u001b[0my\u001b[0m \u001b[1;32mis\u001b[0m \u001b[1;32mnot\u001b[0m \u001b[1;32mNone\u001b[0m\u001b[1;33m:\u001b[0m\u001b[1;33m\u001b[0m\u001b[1;33m\u001b[0m\u001b[0m\n",
      "\u001b[1;32mc:\\anaconda3\\envs\\rebuild_keras\\lib\\site-packages\\keras\\engine\\training_utils.py\u001b[0m in \u001b[0;36mstandardize_input_data\u001b[1;34m(data, names, shapes, check_batch_axis, exception_prefix)\u001b[0m\n\u001b[0;32m    126\u001b[0m                         \u001b[1;34m': expected '\u001b[0m \u001b[1;33m+\u001b[0m \u001b[0mnames\u001b[0m\u001b[1;33m[\u001b[0m\u001b[0mi\u001b[0m\u001b[1;33m]\u001b[0m \u001b[1;33m+\u001b[0m \u001b[1;34m' to have '\u001b[0m \u001b[1;33m+\u001b[0m\u001b[1;33m\u001b[0m\u001b[1;33m\u001b[0m\u001b[0m\n\u001b[0;32m    127\u001b[0m                         \u001b[0mstr\u001b[0m\u001b[1;33m(\u001b[0m\u001b[0mlen\u001b[0m\u001b[1;33m(\u001b[0m\u001b[0mshape\u001b[0m\u001b[1;33m)\u001b[0m\u001b[1;33m)\u001b[0m \u001b[1;33m+\u001b[0m \u001b[1;34m' dimensions, but got array '\u001b[0m\u001b[1;33m\u001b[0m\u001b[1;33m\u001b[0m\u001b[0m\n\u001b[1;32m--> 128\u001b[1;33m                         'with shape ' + str(data_shape))\n\u001b[0m\u001b[0;32m    129\u001b[0m                 \u001b[1;32mif\u001b[0m \u001b[1;32mnot\u001b[0m \u001b[0mcheck_batch_axis\u001b[0m\u001b[1;33m:\u001b[0m\u001b[1;33m\u001b[0m\u001b[1;33m\u001b[0m\u001b[0m\n\u001b[0;32m    130\u001b[0m                     \u001b[0mdata_shape\u001b[0m \u001b[1;33m=\u001b[0m \u001b[0mdata_shape\u001b[0m\u001b[1;33m[\u001b[0m\u001b[1;36m1\u001b[0m\u001b[1;33m:\u001b[0m\u001b[1;33m]\u001b[0m\u001b[1;33m\u001b[0m\u001b[1;33m\u001b[0m\u001b[0m\n",
      "\u001b[1;31mValueError\u001b[0m: Error when checking input: expected input_1 to have 4 dimensions, but got array with shape (50, 50, 3)"
     ]
    }
   ],
   "source": [
    "prex = vgg_model.predict(X[8])\n",
    "print(\"evaluate loss: {0}\".format(prex))\n",
    "#print(\"evaluate acc: {0[1]}\".format(prex))"
   ]
  }
 ],
 "metadata": {
  "kernelspec": {
   "display_name": "rebuild_keras",
   "language": "python",
   "name": "rebuild_keras"
  },
  "language_info": {
   "codemirror_mode": {
    "name": "ipython",
    "version": 3
   },
   "file_extension": ".py",
   "mimetype": "text/x-python",
   "name": "python",
   "nbconvert_exporter": "python",
   "pygments_lexer": "ipython3",
   "version": "3.6.9"
  }
 },
 "nbformat": 4,
 "nbformat_minor": 2
}
