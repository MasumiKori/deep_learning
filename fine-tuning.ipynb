{
 "cells": [
  {
   "cell_type": "code",
   "execution_count": 1,
   "metadata": {
    "scrolled": false
   },
   "outputs": [
    {
     "name": "stderr",
     "output_type": "stream",
     "text": [
      "Using TensorFlow backend.\n",
      "c:\\anaconda3\\envs\\rebuild_keras\\lib\\site-packages\\tensorflow\\python\\framework\\dtypes.py:523: FutureWarning: Passing (type, 1) or '1type' as a synonym of type is deprecated; in a future version of numpy, it will be understood as (type, (1,)) / '(1,)type'.\n",
      "  _np_qint8 = np.dtype([(\"qint8\", np.int8, 1)])\n",
      "c:\\anaconda3\\envs\\rebuild_keras\\lib\\site-packages\\tensorflow\\python\\framework\\dtypes.py:524: FutureWarning: Passing (type, 1) or '1type' as a synonym of type is deprecated; in a future version of numpy, it will be understood as (type, (1,)) / '(1,)type'.\n",
      "  _np_quint8 = np.dtype([(\"quint8\", np.uint8, 1)])\n",
      "c:\\anaconda3\\envs\\rebuild_keras\\lib\\site-packages\\tensorflow\\python\\framework\\dtypes.py:525: FutureWarning: Passing (type, 1) or '1type' as a synonym of type is deprecated; in a future version of numpy, it will be understood as (type, (1,)) / '(1,)type'.\n",
      "  _np_qint16 = np.dtype([(\"qint16\", np.int16, 1)])\n",
      "c:\\anaconda3\\envs\\rebuild_keras\\lib\\site-packages\\tensorflow\\python\\framework\\dtypes.py:526: FutureWarning: Passing (type, 1) or '1type' as a synonym of type is deprecated; in a future version of numpy, it will be understood as (type, (1,)) / '(1,)type'.\n",
      "  _np_quint16 = np.dtype([(\"quint16\", np.uint16, 1)])\n",
      "c:\\anaconda3\\envs\\rebuild_keras\\lib\\site-packages\\tensorflow\\python\\framework\\dtypes.py:527: FutureWarning: Passing (type, 1) or '1type' as a synonym of type is deprecated; in a future version of numpy, it will be understood as (type, (1,)) / '(1,)type'.\n",
      "  _np_qint32 = np.dtype([(\"qint32\", np.int32, 1)])\n",
      "c:\\anaconda3\\envs\\rebuild_keras\\lib\\site-packages\\tensorflow\\python\\framework\\dtypes.py:532: FutureWarning: Passing (type, 1) or '1type' as a synonym of type is deprecated; in a future version of numpy, it will be understood as (type, (1,)) / '(1,)type'.\n",
      "  np_resource = np.dtype([(\"resource\", np.ubyte, 1)])\n"
     ]
    }
   ],
   "source": [
    "from keras.applications import VGG16\n",
    "import os,sys\n",
    "import numpy as np\n",
    "import pandas\n",
    "import matplotlib.pyplot as plt\n",
    "from PIL import Image\n",
    "from keras.utils import np_utils\n",
    "from sklearn.model_selection import train_test_split\n",
    "from keras.models import Sequential, Model\n",
    "from keras.layers import Input, Activation, Dropout, Flatten, Dense\n",
    "from keras.callbacks import EarlyStopping, ModelCheckpoint, ReduceLROnPlateau, TensorBoard\n",
    "from keras import optimizers\n",
    "import time\n",
    "import glob\n",
    "import cv2"
   ]
  },
  {
   "cell_type": "code",
   "execution_count": 2,
   "metadata": {},
   "outputs": [],
   "source": [
    "from keras import backend as K\n",
    "\n",
    "if 'tensorflow' == K.backend():\n",
    "    import tensorflow as tf\n",
    "from keras.backend.tensorflow_backend import set_session\n",
    "config = tf.ConfigProto()\n",
    "config.gpu_options.allow_growth = True\n",
    "config.gpu_options.visible_device_list = \"0\"\n",
    "set_session(tf.Session(config=config))"
   ]
  },
  {
   "cell_type": "code",
   "execution_count": 3,
   "metadata": {},
   "outputs": [],
   "source": [
    "folder = os.listdir(\"./data/SDNET2018/D/\")\n",
    "image_size = 256\n",
    "dense_size = len(folder)\n",
    "\n",
    "X = []\n",
    "Y = []\n",
    "for index, name in enumerate(folder):\n",
    "    dir = \"./data/SDNET2018/D/\" + name\n",
    "    files = glob.glob(dir + \"/*.jpg\")\n",
    "    for i, file in enumerate(files):\n",
    "        image = Image.open(file)\n",
    "        image = image.convert(\"RGB\")\n",
    "        image = image.resize((image_size, image_size))\n",
    "        data = np.asarray(image)\n",
    "        X.append(data)\n",
    "        Y.append(index)\n",
    "X = np.array(X)\n",
    "Y = np.array(Y)\n",
    "X = X.astype('float32')\n",
    "X = X / 255.0\n",
    "\n",
    "\n",
    "Y = np_utils.to_categorical(Y, dense_size)\n",
    "X_train, X_test, y_train, y_test = train_test_split(X, Y, test_size=0.20)\n",
    "\n",
    "batch_size = 64\n",
    "nb_epoch = 100"
   ]
  },
  {
   "cell_type": "code",
   "execution_count": 4,
   "metadata": {},
   "outputs": [
    {
     "name": "stderr",
     "output_type": "stream",
     "text": [
      "c:\\anaconda3\\envs\\rebuild_keras\\lib\\site-packages\\ipykernel_launcher.py:12: UserWarning: Update your `Model` call to the Keras 2 API: `Model(inputs=Tensor(\"in..., outputs=Tensor(\"se...)`\n",
      "  if sys.path[0] == '':\n"
     ]
    }
   ],
   "source": [
    "#VGG16のロード。FC層は不要なので　include_top=False\n",
    "vgg16 = VGG16(include_top=False, weights='imagenet', input_shape=(image_size,image_size,3))\n",
    "\n",
    "#FC層の作成\n",
    "top_model = Sequential()\n",
    "top_model.add(Flatten(input_shape=vgg16.output_shape[1:]))\n",
    "top_model.add(Dense(256, activation='relu'))\n",
    "top_model.add(Dropout(0.5))\n",
    "top_model.add(Dense(dense_size, activation='softmax'))\n",
    "\n",
    "#VGG16とFC層を結合してモデルを作成\n",
    "vgg_model = Model(input=vgg16.input, output=top_model(vgg16.output))\n",
    "\n",
    "#最後のconv層の直前までの層をfreeze\n",
    "for layer in vgg_model.layers[:15]:\n",
    "        layer.trainable = False\n",
    "        \n",
    "#多クラス分類を指定\n",
    "vgg_model.compile(loss='categorical_crossentropy',\n",
    "        optimizer=optimizers.SGD(lr=1e-3, momentum=0.9),\n",
    "        metrics=['accuracy'])"
   ]
  },
  {
   "cell_type": "code",
   "execution_count": 5,
   "metadata": {},
   "outputs": [],
   "source": [
    "#EarlyStopping\n",
    "early_stopping = EarlyStopping(\n",
    "    monitor = 'val_loss',\n",
    "    patience = 10,\n",
    "    verbose = 1)\n",
    "\n",
    "#ModelCheckpoint\n",
    "result_dir = './result_dir/'\n",
    "if os.path.exists(result_dir)==False:os.mkdir(result_dir)\n",
    "model_checkpoint = ModelCheckpoint(\n",
    "    result_dir + \"val_loss[val_loss:.3f].hd5f\",\n",
    "    monitor = 'val_loss',\n",
    "    verbose = 1,\n",
    "    save_best_only = True,\n",
    "    save_weights_only = True,\n",
    "    period = 3)\n",
    "\n",
    "#reduce learning rate\n",
    "reduce_lr = ReduceLROnPlateau(\n",
    "    monitor = 'val_loss',\n",
    "    factor = 0.1,\n",
    "    patience = 3,\n",
    "    verbose = 1\n",
    ")\n",
    "\n",
    "#log for TensorBoard\n",
    "log_dir = './log_dir/'\n",
    "if os.path.exists(log_dir)==False:os.mkdir(log_dir)\n",
    "logging = TensorBoard(log_dir)"
   ]
  },
  {
   "cell_type": "code",
   "execution_count": 6,
   "metadata": {},
   "outputs": [
    {
     "name": "stderr",
     "output_type": "stream",
     "text": [
      "c:\\anaconda3\\envs\\rebuild_keras\\lib\\site-packages\\ipykernel_launcher.py:8: UserWarning: The `nb_epoch` argument in `fit` has been renamed `epochs`.\n",
      "  \n"
     ]
    },
    {
     "name": "stdout",
     "output_type": "stream",
     "text": [
      "Train on 8716 samples, validate on 2180 samples\n",
      "Epoch 1/100\n",
      "8716/8716 [==============================] - 89s 10ms/step - loss: 0.4377 - acc: 0.8448 - val_loss: 0.3641 - val_acc: 0.8679\n",
      "Epoch 2/100\n",
      "8716/8716 [==============================] - 40s 5ms/step - loss: 0.3583 - acc: 0.8738 - val_loss: 0.3163 - val_acc: 0.8917\n",
      "Epoch 3/100\n",
      "8716/8716 [==============================] - 40s 5ms/step - loss: 0.3205 - acc: 0.8919 - val_loss: 0.2872 - val_acc: 0.9037\n",
      "Epoch 4/100\n",
      "8716/8716 [==============================] - 40s 5ms/step - loss: 0.3066 - acc: 0.9004 - val_loss: 0.2749 - val_acc: 0.9073\n",
      "Epoch 5/100\n",
      "8716/8716 [==============================] - 41s 5ms/step - loss: 0.3037 - acc: 0.9021 - val_loss: 0.2820 - val_acc: 0.9032\n",
      "Epoch 6/100\n",
      "8716/8716 [==============================] - 40s 5ms/step - loss: 0.2779 - acc: 0.9075 - val_loss: 0.2608 - val_acc: 0.9151\n",
      "Epoch 7/100\n",
      "8716/8716 [==============================] - 41s 5ms/step - loss: 0.2695 - acc: 0.9111 - val_loss: 0.2597 - val_acc: 0.9170\n",
      "Epoch 8/100\n",
      "8716/8716 [==============================] - 41s 5ms/step - loss: 0.2661 - acc: 0.9131 - val_loss: 0.2699 - val_acc: 0.9078\n",
      "Epoch 9/100\n",
      "8716/8716 [==============================] - 41s 5ms/step - loss: 0.2576 - acc: 0.9149 - val_loss: 0.2524 - val_acc: 0.9138\n",
      "Epoch 10/100\n",
      "8716/8716 [==============================] - 41s 5ms/step - loss: 0.2495 - acc: 0.9154 - val_loss: 0.2614 - val_acc: 0.9142\n",
      "Epoch 11/100\n",
      "8716/8716 [==============================] - 41s 5ms/step - loss: 0.2487 - acc: 0.9198 - val_loss: 0.2467 - val_acc: 0.9183\n",
      "Epoch 12/100\n",
      "8716/8716 [==============================] - 41s 5ms/step - loss: 0.2469 - acc: 0.9183 - val_loss: 0.2503 - val_acc: 0.9197\n",
      "Epoch 13/100\n",
      "8716/8716 [==============================] - 41s 5ms/step - loss: 0.2469 - acc: 0.9212 - val_loss: 0.2498 - val_acc: 0.9206\n",
      "Epoch 14/100\n",
      "8716/8716 [==============================] - 41s 5ms/step - loss: 0.2273 - acc: 0.9253 - val_loss: 0.3293 - val_acc: 0.8766\n",
      "\n",
      "Epoch 00014: ReduceLROnPlateau reducing learning rate to 0.00010000000474974513.\n",
      "Epoch 15/100\n",
      "8716/8716 [==============================] - 41s 5ms/step - loss: 0.2379 - acc: 0.9212 - val_loss: 0.2438 - val_acc: 0.9211\n",
      "Epoch 16/100\n",
      "8716/8716 [==============================] - 42s 5ms/step - loss: 0.2180 - acc: 0.9301 - val_loss: 0.2435 - val_acc: 0.9211\n",
      "Epoch 17/100\n",
      "8716/8716 [==============================] - 42s 5ms/step - loss: 0.2149 - acc: 0.9308 - val_loss: 0.2456 - val_acc: 0.9193\n",
      "Epoch 18/100\n",
      "8716/8716 [==============================] - 43s 5ms/step - loss: 0.2137 - acc: 0.9298 - val_loss: 0.2460 - val_acc: 0.9211\n",
      "Epoch 19/100\n",
      "8716/8716 [==============================] - 41s 5ms/step - loss: 0.2131 - acc: 0.9307 - val_loss: 0.2448 - val_acc: 0.9206\n",
      "\n",
      "Epoch 00019: ReduceLROnPlateau reducing learning rate to 1.0000000474974514e-05.\n",
      "Epoch 20/100\n",
      "8716/8716 [==============================] - 43s 5ms/step - loss: 0.2114 - acc: 0.9315 - val_loss: 0.2448 - val_acc: 0.9225\n",
      "Epoch 21/100\n",
      "8716/8716 [==============================] - 42s 5ms/step - loss: 0.2097 - acc: 0.9320 - val_loss: 0.2448 - val_acc: 0.9225\n",
      "Epoch 22/100\n",
      "8716/8716 [==============================] - 43s 5ms/step - loss: 0.2130 - acc: 0.9313 - val_loss: 0.2448 - val_acc: 0.9220\n",
      "\n",
      "Epoch 00022: ReduceLROnPlateau reducing learning rate to 1.0000000656873453e-06.\n",
      "Epoch 23/100\n",
      "8716/8716 [==============================] - 41s 5ms/step - loss: 0.2101 - acc: 0.9308 - val_loss: 0.2447 - val_acc: 0.9220\n",
      "Epoch 24/100\n",
      "8716/8716 [==============================] - 43s 5ms/step - loss: 0.2109 - acc: 0.9304 - val_loss: 0.2447 - val_acc: 0.9225\n",
      "Epoch 25/100\n",
      "8716/8716 [==============================] - 42s 5ms/step - loss: 0.2124 - acc: 0.9304 - val_loss: 0.2447 - val_acc: 0.9220\n",
      "\n",
      "Epoch 00025: ReduceLROnPlateau reducing learning rate to 1.0000001111620805e-07.\n",
      "Epoch 26/100\n",
      "8716/8716 [==============================] - 42s 5ms/step - loss: 0.2102 - acc: 0.9328 - val_loss: 0.2447 - val_acc: 0.9220\n",
      "Epoch 00026: early stopping\n"
     ]
    }
   ],
   "source": [
    "#Fine-tuning\n",
    "hist = vgg_model.fit(\n",
    "    X_train,y_train,\n",
    "    verbose=1,\n",
    "    batch_size=batch_size,\n",
    "    nb_epoch=nb_epoch,\n",
    "    validation_split=0.2,\n",
    "    callbacks=[early_stopping, reduce_lr, logging]\n",
    "    )\n"
   ]
  },
  {
   "cell_type": "code",
   "execution_count": 7,
   "metadata": {},
   "outputs": [],
   "source": [
    "model_dir = './model/'\n",
    "if os.path.exists(model_dir) == False:os.mkdir(model_dir)\n",
    "\n",
    "vgg_model.save(model_dir + 'model_SDNET2018_256.hdf5')\n",
    "\n",
    "# optimizerのない軽量モデルを保存（学習や評価は不可だが、予測は可能）\n",
    "#vgg_model.save(model_dir + 'model-opt.hdf5', include_optimizer = False)\n",
    "\n",
    "# ベストの重みのみ保存\n",
    "weights_dir = './weights_dir/'\n",
    "if os.path.exists(weights_dir) == False:os.mkdir(weights_dir)\n",
    "vgg_model.save_weights(weights_dir + 'model_weight_SDNET_256.hdf5')"
   ]
  },
  {
   "cell_type": "code",
   "execution_count": 8,
   "metadata": {},
   "outputs": [
    {
     "data": {
      "image/png": "[encoded data removed]",
      "text/plain": [
       "<Figure size 1296x432 with 2 Axes>"
      ]
     },
     "metadata": {
      "needs_background": "light"
     },
     "output_type": "display_data"
    }
   ],
   "source": [
    "plt.figure(figsize = (18,6))\n",
    "\n",
    "# accuracy\n",
    "plt.subplot(1, 2, 1)\n",
    "plt.plot(hist.history[\"acc\"], label = \"acc\", marker = \"o\")\n",
    "plt.plot(hist.history[\"val_acc\"], label = \"val_acc\", marker = \"o\")\n",
    "#plt.xticks(np.arange())\n",
    "#plt.yticks(np.arange())\n",
    "plt.xlabel(\"epoch\")\n",
    "plt.ylabel(\"accuracy\")\n",
    "#plt.title(\"\")\n",
    "plt.legend(loc = \"best\")\n",
    "plt.grid(color = 'gray', alpha = 0.2)\n",
    "\n",
    "# loss\n",
    "plt.subplot(1, 2, 2)\n",
    "plt.plot(hist.history[\"loss\"], label = \"loss\", marker = \"o\")\n",
    "plt.plot(hist.history[\"val_loss\"], label = \"val_loss\", marker = \"o\")\n",
    "#plt.xticks(np.arange())\n",
    "#plt.yticks(np.arange())\n",
    "plt.xlabel(\"epoch\")\n",
    "plt.ylabel(\"loss\")\n",
    "#plt.title(\"\")\n",
    "plt.legend(loc = \"best\")\n",
    "plt.grid(color = 'gray', alpha = 0.2)\n",
    "\n",
    "plt.show()"
   ]
  },
  {
   "cell_type": "code",
   "execution_count": 15,
   "metadata": {},
   "outputs": [
    {
     "name": "stdout",
     "output_type": "stream",
     "text": [
      "2724/2724 [==============================] - 10s 4ms/step\n",
      "evaluate loss: 0.21982969183928816\n",
      "evaluate acc: 0.9254772393538914\n"
     ]
    }
   ],
   "source": [
    "score = vgg_model.evaluate(X_test,y_test,verbose=1)\n",
    "print(\"evaluate loss: {0[0]}\".format(score))\n",
    "print(\"evaluate acc: {0[1]}\".format(score))\n",
    "\n",
    "prex = vgg_model.predict(X_test)\n",
    "wrong = []\n",
    "w_index = []\n",
    "fp = []\n",
    "fn = []\n",
    "a = np_utils.to_categorical(1, dense_size)\n",
    "for i in range(len(X_test)):\n",
    "    yi = y_test[i:i+1]\n",
    "    prei = prex[i:i+1]\n",
    "    if prei.argmax() != yi.argmax():\n",
    "        wrong.append(i)\n",
    "        w_index.append(y_test[i])\n",
    "        if y_test[i][0] == a[0]:\n",
    "            fp.append(i)\n",
    "        elif y_test[i][0] == a[1]:\n",
    "            fn.append(i)\n",
    "wrong = np.array(wrong)   \n",
    "wrong.astype('float32')\n",
    "w_index = np.array(w_index)"
   ]
  },
  {
   "cell_type": "code",
   "execution_count": 16,
   "metadata": {},
   "outputs": [
    {
     "name": "stdout",
     "output_type": "stream",
     "text": [
      "[60, 231, 242, 297, 319, 350, 494, 561, 609, 684, 687, 689, 763, 785, 796, 1018, 1057, 1091, 1157, 1183, 1188, 1302, 1309, 1570, 1624, 1634, 1643, 1659, 1676, 1924, 1927, 2058, 2150, 2183, 2186, 2188, 2196, 2393, 2462, 2631]\n",
      "fp 40\n",
      "[7, 14, 16, 26, 43, 55, 63, 65, 69, 79, 119, 122, 136, 143, 144, 213, 232, 265, 291, 293, 326, 341, 342, 362, 380, 383, 389, 412, 431, 437, 446, 456, 464, 465, 478, 524, 551, 552, 560, 574, 589, 627, 631, 685, 686, 703, 747, 771, 814, 834, 845, 864, 880, 887, 888, 908, 921, 923, 932, 941, 947, 977, 1040, 1067, 1070, 1090, 1139, 1177, 1181, 1270, 1277, 1285, 1312, 1313, 1316, 1355, 1366, 1380, 1390, 1399, 1400, 1410, 1421, 1426, 1437, 1462, 1471, 1473, 1486, 1493, 1517, 1529, 1530, 1584, 1610, 1618, 1638, 1642, 1682, 1689, 1716, 1732, 1742, 1783, 1819, 1855, 1866, 1887, 1919, 1938, 1942, 1954, 1956, 1995, 1999, 2006, 2039, 2048, 2063, 2082, 2085, 2094, 2097, 2106, 2144, 2160, 2162, 2185, 2210, 2220, 2246, 2254, 2269, 2290, 2296, 2297, 2307, 2314, 2315, 2330, 2347, 2353, 2360, 2386, 2397, 2411, 2423, 2430, 2440, 2458, 2471, 2493, 2515, 2533, 2604, 2634, 2643, 2656, 2658, 2669, 2700, 2705, 2723]\n",
      "fn 163\n",
      "wrong 203\n"
     ]
    }
   ],
   "source": [
    "print(fp)\n",
    "print('fp', len(fp))\n",
    "print(fn)\n",
    "print('fn', len(fn))\n",
    "#print(w_index)\n",
    "print('wrong',len(wrong))\n",
    "#print(y_test[3][1])"
   ]
  },
  {
   "cell_type": "code",
   "execution_count": 18,
   "metadata": {},
   "outputs": [],
   "source": [
    "fp_dir = './data/fp_learning_256/'\n",
    "fn_dir = './data/fn_learning_256/'\n",
    "if os.path.exists(fp_dir)==False:os.mkdir(fp_dir)\n",
    "if os.path.exists(fn_dir)==False:os.mkdir(fn_dir)\n",
    "    \n",
    "for i in range(len(fp)):\n",
    "    im = (X_test[fp[i]]*255)\n",
    "    img = Image.fromarray(np.uint8(im))\n",
    "    img.save(fp_dir + '{}.jpg'.format(i))\n",
    "    \n",
    "for i in range(len(fn)):\n",
    "    im = (X_test[fn[i]]*255)\n",
    "    img = Image.fromarray(np.uint8(im))\n",
    "    img.save(fn_dir + '{}.jpg'.format(i))"
   ]
  },
  {
   "cell_type": "code",
   "execution_count": 27,
   "metadata": {},
   "outputs": [],
   "source": [
    "crack = []\n",
    "files = glob.glob(\"./data/crack/*.jpg\")\n",
    "for i, file in enumerate(files):\n",
    "        image = Image.open(file)\n",
    "        image = image.convert(\"RGB\")\n",
    "        image = image.resize((image_size, image_size))\n",
    "        data = np.asarray(image)\n",
    "        crack.append(data)\n",
    "crack = np.array(crack)\n",
    "crack = crack.astype('float32')\n",
    "crack = crack / 255.0"
   ]
  },
  {
   "cell_type": "code",
   "execution_count": 32,
   "metadata": {},
   "outputs": [
    {
     "name": "stdout",
     "output_type": "stream",
     "text": [
      "[[9.80705678e-01 1.92943756e-02]\n",
      " [9.97598350e-01 2.40159128e-03]\n",
      " [9.99907970e-01 9.19750237e-05]\n",
      " [1.00000000e+00 1.31607969e-09]\n",
      " [9.88109410e-01 1.18905585e-02]\n",
      " [9.99911427e-01 8.85772606e-05]\n",
      " [1.00000000e+00 2.70869460e-09]\n",
      " [1.00000000e+00 1.18646950e-08]]\n"
     ]
    }
   ],
   "source": [
    "predict = vgg_model.predict(crack)\n",
    "print(\">> 計算結果↓\\n\" + str(predict))\n",
    "#print(\">>　この画像は「\"+)\n",
    "#print(predict)print(w_index[106])\n",
    "fig = plt.figure(figsize=(16,9))\n",
    "plt.imshow(X[wrong[106]])\n",
    "plt.show()"
   ]
  },
  {
   "cell_type": "code",
   "execution_count": 1,
   "metadata": {},
   "outputs": [
    {
     "ename": "NameError",
     "evalue": "name 'fp' is not defined",
     "output_type": "error",
     "traceback": [
      "\u001b[1;31m---------------------------------------------------------------------------\u001b[0m",
      "\u001b[1;31mNameError\u001b[0m                                 Traceback (most recent call last)",
      "\u001b[1;32m<ipython-input-1-ce03df8b5be5>\u001b[0m in \u001b[0;36m<module>\u001b[1;34m\u001b[0m\n\u001b[1;32m----> 1\u001b[1;33m \u001b[0mprint\u001b[0m\u001b[1;33m(\u001b[0m\u001b[0mfp\u001b[0m\u001b[1;33m[\u001b[0m\u001b[1;36m1\u001b[0m\u001b[1;33m]\u001b[0m\u001b[1;33m)\u001b[0m\u001b[1;33m\u001b[0m\u001b[1;33m\u001b[0m\u001b[0m\n\u001b[0m\u001b[0;32m      2\u001b[0m \u001b[0mfig\u001b[0m \u001b[1;33m=\u001b[0m \u001b[0mplt\u001b[0m\u001b[1;33m.\u001b[0m\u001b[0mfigure\u001b[0m\u001b[1;33m(\u001b[0m\u001b[0mfigsize\u001b[0m\u001b[1;33m=\u001b[0m\u001b[1;33m(\u001b[0m\u001b[1;36m16\u001b[0m\u001b[1;33m,\u001b[0m\u001b[1;36m9\u001b[0m\u001b[1;33m)\u001b[0m\u001b[1;33m)\u001b[0m\u001b[1;33m\u001b[0m\u001b[1;33m\u001b[0m\u001b[0m\n\u001b[0;32m      3\u001b[0m \u001b[0mplt\u001b[0m\u001b[1;33m.\u001b[0m\u001b[0mimshow\u001b[0m\u001b[1;33m(\u001b[0m\u001b[0mX\u001b[0m\u001b[1;33m[\u001b[0m\u001b[0mwrong\u001b[0m\u001b[1;33m[\u001b[0m\u001b[1;36m1\u001b[0m\u001b[1;33m]\u001b[0m\u001b[1;33m]\u001b[0m\u001b[1;33m)\u001b[0m\u001b[1;33m\u001b[0m\u001b[1;33m\u001b[0m\u001b[0m\n\u001b[0;32m      4\u001b[0m \u001b[0mplt\u001b[0m\u001b[1;33m.\u001b[0m\u001b[0mshow\u001b[0m\u001b[1;33m(\u001b[0m\u001b[1;33m)\u001b[0m\u001b[1;33m\u001b[0m\u001b[1;33m\u001b[0m\u001b[0m\n",
      "\u001b[1;31mNameError\u001b[0m: name 'fp' is not defined"
     ]
    }
   ],
   "source": [
    "print(fp[1])\n",
    "fig = plt.figure(figsize=(16,9))\n",
    "plt.imshow(X[wrong[1]])\n",
    "plt.show()"
   ]
  },
  {
   "cell_type": "code",
   "execution_count": null,
   "metadata": {},
   "outputs": [],
   "source": []
  }
 ],
 "metadata": {
  "kernelspec": {
   "display_name": "rebuild_keras",
   "language": "python",
   "name": "rebuild_keras"
  },
  "language_info": {
   "codemirror_mode": {
    "name": "ipython",
    "version": 3
   },
   "file_extension": ".py",
   "mimetype": "text/x-python",
   "name": "python",
   "nbconvert_exporter": "python",
   "pygments_lexer": "ipython3",
   "version": "3.6.9"
  }
 },
 "nbformat": 4,
 "nbformat_minor": 2
}
